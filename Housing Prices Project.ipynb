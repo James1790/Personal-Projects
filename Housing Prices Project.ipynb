{
 "cells": [
  {
   "cell_type": "markdown",
   "id": "32db1f2a-7755-46b0-b4d3-67f191511843",
   "metadata": {},
   "source": [
    "# Housing Prices Project #\n",
    "#### - Extracting data from a CSV file\n",
    "#### - Data Visualization\n",
    "#### - Data Cleansing\n",
    "#### - Multiple Libraries"
   ]
  },
  {
   "cell_type": "code",
   "execution_count": 1,
   "id": "6641a12a-4cb8-476e-a3e2-77eefdf3e1a1",
   "metadata": {
    "tags": []
   },
   "outputs": [],
   "source": [
    "import numpy as np\n",
    "import pandas as pd\n",
    "import csv\n",
    "#import matplotlib.pyplot as plt \n",
    "#import seaborn as sns "
   ]
  },
  {
   "cell_type": "code",
   "execution_count": 2,
   "id": "7176e69b-d8b3-4884-887a-54b2079584e5",
   "metadata": {
    "tags": []
   },
   "outputs": [
    {
     "ename": "NameError",
     "evalue": "name 'pd' is not defined",
     "output_type": "error",
     "traceback": [
      "\u001b[0;31m---------------------------------------------------------------------------\u001b[0m",
      "\u001b[0;31mNameError\u001b[0m                                 Traceback (most recent call last)",
      "Cell \u001b[0;32mIn[2], line 2\u001b[0m\n\u001b[1;32m      1\u001b[0m \u001b[38;5;66;03m#initial read of csv file\u001b[39;00m\n\u001b[0;32m----> 2\u001b[0m data \u001b[38;5;241m=\u001b[39m pd\u001b[38;5;241m.\u001b[39mread_csv(\u001b[38;5;124m'\u001b[39m\u001b[38;5;124mHousing.csv\u001b[39m\u001b[38;5;124m'\u001b[39m)\n\u001b[1;32m      3\u001b[0m data\n",
      "\u001b[0;31mNameError\u001b[0m: name 'pd' is not defined"
     ]
    }
   ],
   "source": [
    "#initial read of csv file\n",
    "data = pd.read_csv('Housing.csv')\n",
    "data"
   ]
  },
  {
   "cell_type": "code",
   "execution_count": null,
   "id": "8dedb2d5-b010-41ce-be05-dd1d65b6a985",
   "metadata": {
    "tags": []
   },
   "outputs": [],
   "source": [
    "#advanced description of data\n",
    "data.describe()"
   ]
  },
  {
   "cell_type": "code",
   "execution_count": null,
   "id": "3789ae7f-64a5-4901-b6ab-dc24e0a9dd61",
   "metadata": {
    "tags": []
   },
   "outputs": [],
   "source": [
    "#information of data\n",
    "data.info"
   ]
  },
  {
   "cell_type": "code",
   "execution_count": null,
   "id": "8df18c3b-58dd-4e32-8f9f-e5335ec4e310",
   "metadata": {
    "tags": []
   },
   "outputs": [],
   "source": [
    "#check duplicated data\n",
    "data.loc[data.duplicated()]"
   ]
  },
  {
   "cell_type": "code",
   "execution_count": null,
   "id": "23a67151-34d4-4b89-8423-62f717500864",
   "metadata": {
    "tags": []
   },
   "outputs": [],
   "source": [
    "#show column names\n",
    "columns = data.columns\n",
    "print(columns)\n",
    "#check null values\n",
    "data.isna().sum()"
   ]
  },
  {
   "cell_type": "code",
   "execution_count": null,
   "id": "6744a82e-5afb-45da-a316-db9ce5051da3",
   "metadata": {
    "tags": []
   },
   "outputs": [],
   "source": [
    "price = data.price\n",
    "price"
   ]
  },
  {
   "cell_type": "code",
   "execution_count": null,
   "id": "8bb7a6aa-ff33-4180-a126-6e8ac9c60136",
   "metadata": {
    "tags": []
   },
   "outputs": [],
   "source": [
    "#Show pricing of housing\n",
    "import matplotlib.pyplot as plt\n",
    "\n",
    "plt.hist(data['price'], bins=20, edgecolor='black')\n",
    "plt.title('Distribution of Housing Prices')\n",
    "plt.xlabel('Price')\n",
    "plt.ylabel('Frequency')\n",
    "plt.show()"
   ]
  },
  {
   "cell_type": "code",
   "execution_count": null,
   "id": "de6ef908-c970-4233-b7bb-8de0fd014fd5",
   "metadata": {
    "tags": []
   },
   "outputs": [],
   "source": [
    "#separate data by furnishing status and create pie chart to show percentage\n",
    "import matplotlib.pyplot as plt\n",
    "import seaborn as sns\n",
    "labels= 'semi-furnished','furnished', 'unfurnished'\n",
    "plt.pie(data['furnishingstatus'].value_counts(),labels=labels,autopct='%0.02f%%',\n",
    "    explode = (0.2,0.01,0.01),startangle = 90, shadow = True)\n",
    "plt.title('Furnishing Status')\n",
    "plt.show()\n",
    "\n",
    "plt.hist(data['furnishingstatus'], bins=20, edgecolor='black')\n",
    "plt.title('Distribution of Furnishing Status')\n",
    "plt.xlabel('Furnishing Status')\n",
    "plt.ylabel('Frequency')\n",
    "plt.show()"
   ]
  },
  {
   "cell_type": "code",
   "execution_count": null,
   "id": "63be0425-54a3-41d2-b98b-2155c06d04f3",
   "metadata": {
    "tags": []
   },
   "outputs": [],
   "source": [
    "#separate data by Bedroom # and create chart to show frequency of each\n",
    "plt.hist(data['bedrooms'], bins = 20, edgecolor = 'black')\n",
    "plt.xlabel('Bedrooms')\n",
    "plt.ylabel('Frequency')\n",
    "plt.title('Bedrooms Distribution')\n",
    "plt.show()\n"
   ]
  },
  {
   "cell_type": "code",
   "execution_count": null,
   "id": "1fdf128b-9222-40f3-9a05-432e8049d076",
   "metadata": {
    "tags": []
   },
   "outputs": [],
   "source": [
    "#create chart that shows multiple graphs in comparison\n",
    "sns.pairplot(data, hue = None)\n",
    "plt.show()"
   ]
  },
  {
   "cell_type": "code",
   "execution_count": null,
   "id": "77453965-f724-486f-89ea-e52a5ad547ea",
   "metadata": {
    "tags": []
   },
   "outputs": [],
   "source": [
    "#Use graph to show price compared to bedrooms and bathrooms and stories\n",
    "plt.subplot(1,3,1)\n",
    "plt1 = data['bedrooms'].value_counts().plot(kind= 'bar', color = 'r')\n",
    "plt.title('Bedrooms Distribution')\n",
    "plt1.set(xlabel = 'Bedrooms', ylabel = 'Frequency of Bedrooms')\n",
    "\n",
    "plt.subplot(1,3,2)\n",
    "plt1 = data['bathrooms'].value_counts().plot(kind= 'bar', color = 'b')\n",
    "plt.title('Bathroom Distribution')\n",
    "plt1.set(xlabel = 'Bathrooms', ylabel = 'Frequency of Bathrooms')\n",
    "\n",
    "plt.subplot(1,3,3)\n",
    "plt1 = data['stories'].value_counts().plot(kind= 'bar',color = 'y')\n",
    "plt.title('Stories Distribution')\n",
    "plt1.set(xlabel = 'Stories', ylabel = 'Frequency of Stories')\n",
    "\n",
    "plt.show()"
   ]
  },
  {
   "cell_type": "code",
   "execution_count": null,
   "id": "db321680-618c-4aa9-819b-3c1351411eb9",
   "metadata": {
    "tags": []
   },
   "outputs": [],
   "source": [
    "# Show available # of houses for inputted value of bedroom, bathroom, or stories amount. \n",
    "#From these graphs show what houses are available for x amount of bathrooms, with x amount of bedrooms, and x amount of stories\n",
    "rbedroom = int(input('Your bedroom amount request:'))\n",
    "rbathroom = int(input('Your bathroom amount request:'))\n",
    "rstories = int(input('Your stories amount request:'))\n",
    "abedrooms = []\n",
    "abathrooms = []\n",
    "astories = []\n",
    "\n",
    "for x in data['bedrooms']\n",
    "    if x == rbedroom:\n",
    "        abedrooms.append(x)\n",
    "for x in data['bathrooms']:\n",
    "    if x == rbathroom:\n",
    "        abathrooms.append(x)\n",
    "for x in data['stories']:\n",
    "    if x == rstories:\n",
    "        astories.append(x)\n",
    "house_match = {'bedrooms':[len(abedrooms)],'bathrooms':[len(abathrooms)],'stories':[len(astories)]}\n",
    "print(house_match)\n"
   ]
  },
  {
   "cell_type": "code",
   "execution_count": null,
   "id": "741b14d2-d0fa-422c-9f00-2a99283b9a25",
   "metadata": {},
   "outputs": [],
   "source": []
  }
 ],
 "metadata": {
  "kernelspec": {
   "display_name": "Python 3 (ipykernel)",
   "language": "python",
   "name": "python3"
  },
  "language_info": {
   "codemirror_mode": {
    "name": "ipython",
    "version": 3
   },
   "file_extension": ".py",
   "mimetype": "text/x-python",
   "name": "python",
   "nbconvert_exporter": "python",
   "pygments_lexer": "ipython3",
   "version": "3.11.4"
  }
 },
 "nbformat": 4,
 "nbformat_minor": 5
}
